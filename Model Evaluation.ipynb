{
 "cells": [
  {
   "cell_type": "code",
   "execution_count": null,
   "id": "1b347bd7",
   "metadata": {},
   "outputs": [],
   "source": [
    "import numpy as np \n",
    "import pandas as pd\n",
    "import matplotlib.pyplot as plt\n",
    "import seaborn as sns\n",
    "from sklearn.impute import SimpleImputer\n",
    "from sklearn.preprocessing import Binarizer\n",
    "from sklearn.preprocessing import LabelEncoder, OneHotEncoder\n",
    "from imblearn.over_sampling import RandomOverSampler\n",
    "from sklearn.compose import ColumnTransformer\n",
    "\n",
    "%matplotlib inline\n",
    "\n",
    "# To visualise all the columns in the dataframe\n",
    "pd.pandas.set_option('display.max_columns', None)\n",
    "\n",
    "from sklearn.linear_model import Lasso\n",
    "from sklearn.feature_selection import SelectFromModel"
   ]
  },
  {
   "cell_type": "code",
   "execution_count": null,
   "id": "701cf2ec",
   "metadata": {},
   "outputs": [],
   "source": []
  },
  {
   "cell_type": "code",
   "execution_count": null,
   "id": "653005c0",
   "metadata": {},
   "outputs": [],
   "source": [
    "dataset_filename = \"train.csv\"\n",
    "dataset = pd.read_csv(dataset_filename)\n",
    "print(dataset.shape)\n",
    "dataset.head()"
   ]
  },
  {
   "cell_type": "code",
   "execution_count": null,
   "id": "f1f09edc",
   "metadata": {},
   "outputs": [],
   "source": [
    "Tuning parameters and finding best model\n",
    "1\n",
    "param_grid = {\n",
    "2\n",
    "    'max_depth': list(range(2, 25)),\n",
    "3\n",
    "    'min_samples_split': list(range(2, 11)),\n",
    "4\n",
    "    'min_samples_leaf': list(range(1, 11))\n",
    "5\n",
    "}\n",
    "clf = GridSearchCV(DecisionTreeClassifier(), param_grid, n_jobs=-1)\n",
    "%time clf.fit(X, y)\n",
    "best_params = clf.best_params_\n",
    "print(\"Best params \",best_params)\n",
    "1\n",
    "clf = GridSearchCV(DecisionTreeClassifier(), param_grid, n_jobs=-1)\n",
    "2\n",
    "%time clf.fit(X, y)\n",
    "3\n",
    "best_params = clf.best_params_\n",
    "4\n",
    "print(\"Best params \",best_params)"
   ]
  },
  {
   "cell_type": "code",
   "execution_count": null,
   "id": "ca0924f3",
   "metadata": {},
   "outputs": [],
   "source": [
    "## Evaludate a score by cross-validation\n",
    "scores = cross_val_score(clf, X, y, n_jobs=-1)\n",
    "scores"
   ]
  },
  {
   "cell_type": "code",
   "execution_count": null,
   "id": "643f6867",
   "metadata": {},
   "outputs": [],
   "source": [
    "Predicting the testdata with trained model\n",
    "1\n",
    "test_pred = clf.predict(X_test)\n",
    "Classification scores & Model Evaluation\n",
    "1\n",
    "# Finding accuracy\n",
    "2\n",
    "metrics.accuracy_score(y_test ,test_pred)\n",
    "1\n",
    "# Finding confusion matrix\n",
    "2\n",
    "metrics.confusion_matrix(y_test, test_pred)\n",
    "1\n",
    "# Finding precision score\n",
    "2\n",
    "metrics.precision_score(y_test, test_pred, average='macro')\n",
    "l\n",
    "1\n",
    "# Finding recall score\n",
    "2\n",
    "metrics.recall_score(y_test, test_pred,average='macro')\n",
    "1\n",
    "# Finding classification report\n",
    "2\n",
    "print(metrics.classification_report(y_test, test_pred))\n",
    "1\n",
    "# Finding precision recall fscore support\n",
    "2\n",
    "metrics.precision_recall_fscore_support(y_test, test_pred)"
   ]
  },
  {
   "cell_type": "code",
   "execution_count": null,
   "id": "e4cc9f85",
   "metadata": {},
   "outputs": [],
   "source": []
  },
  {
   "cell_type": "code",
   "execution_count": null,
   "id": "0390df6c",
   "metadata": {},
   "outputs": [],
   "source": [
    "# Evaludation for regression"
   ]
  },
  {
   "cell_type": "code",
   "execution_count": null,
   "id": "5548f528",
   "metadata": {},
   "outputs": [],
   "source": [
    "print('MAE:', metrics.mean_absolute_error(y_test, y_pred))\n",
    "print('MSE:', metrics.mean_squared_error(y_test, y_pred))\n",
    "print('RMSE:', np.sqrt(metrics.mean_squared_error(y_test, y_pred)))"
   ]
  },
  {
   "cell_type": "code",
   "execution_count": null,
   "id": "371b68ad",
   "metadata": {},
   "outputs": [],
   "source": []
  },
  {
   "cell_type": "code",
   "execution_count": null,
   "id": "6b18717b",
   "metadata": {},
   "outputs": [],
   "source": [
    "# Load model\n",
    "\n",
    "saving the model and making predictions\n",
    "1\n",
    "#load the saved regression model\n",
    "2\n",
    "import pickle\n",
    "3\n",
    "filename = 'LinearRegression_model.sav'\n",
    "4\n",
    "pickle.dump(regressor, open(filename, 'wb'))\n",
    "1\n",
    "#predict rspm for the years 2020,2030,2040,2050 in Delhi\n",
    "2\n",
    "X1=(2020.0,2030.0,2040.0,2050.0)\n",
    "3\n",
    "PP=np.array(X1).reshape(-1,1)\n",
    "1\n",
    "import pickle\n",
    "2\n",
    "loaded_model = pickle.load(open('LinearRegression_model.sav', 'rb'))\n",
    "3\n",
    "predictions=[]  \n",
    "4\n",
    "predictions = loaded_model.predict(PP)\n",
    "5\n",
    "predictions"
   ]
  }
 ],
 "metadata": {
  "kernelspec": {
   "display_name": "Python 3",
   "language": "python",
   "name": "python3"
  },
  "language_info": {
   "codemirror_mode": {
    "name": "ipython",
    "version": 3
   },
   "file_extension": ".py",
   "mimetype": "text/x-python",
   "name": "python",
   "nbconvert_exporter": "python",
   "pygments_lexer": "ipython3",
   "version": "3.8.2"
  }
 },
 "nbformat": 4,
 "nbformat_minor": 5
}
